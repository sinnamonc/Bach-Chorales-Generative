{
 "cells": [
  {
   "cell_type": "code",
   "execution_count": 285,
   "metadata": {},
   "outputs": [
    {
     "name": "stdout",
     "output_type": "stream",
     "text": [
      "pandas Successfully Imported\n",
      "numpy Successfully Imported\n"
     ]
    }
   ],
   "source": [
    "import pandas as pd\n",
    "print(\"pandas Successfully Imported\")\n",
    "import numpy as np\n",
    "print(\"numpy Successfully Imported\")"
   ]
  },
  {
   "cell_type": "code",
   "execution_count": 286,
   "metadata": {},
   "outputs": [],
   "source": [
    "numcols = 1034\n",
    "usecols = np.arange(numcols)"
   ]
  },
  {
   "cell_type": "code",
   "execution_count": 287,
   "metadata": {},
   "outputs": [
    {
     "name": "stdout",
     "output_type": "stream",
     "text": [
      "data Successfully Read\n"
     ]
    },
    {
     "data": {
      "text/plain": [
       "1032"
      ]
     },
     "execution_count": 287,
     "metadata": {},
     "output_type": "execute_result"
    }
   ],
   "source": [
    "data = pd.read_table('C:/Users/Craig/eclipse-workspace/test_keras/chorales_generation/data/chorales.csv', sep=',', \n",
    "                     names = usecols, engine='python', header=None)\n",
    "data.columns = ['1'] + ['2']*(len(data.columns)-2) + ['1']\n",
    "data = data.drop(['1'], axis = 1)\n",
    "print(\"data Successfully Read\")\n",
    "len(data.columns)"
   ]
  },
  {
   "cell_type": "code",
   "execution_count": 288,
   "metadata": {},
   "outputs": [
    {
     "data": {
      "text/plain": [
       "516"
      ]
     },
     "execution_count": 288,
     "metadata": {},
     "output_type": "execute_result"
    }
   ],
   "source": [
    "data.columns = ['1','2']*(len(data.columns)//2)\n",
    "data = data.drop(['1'], axis=1)\n",
    "len(data.columns)"
   ]
  },
  {
   "cell_type": "code",
   "execution_count": 289,
   "metadata": {},
   "outputs": [],
   "source": [
    "colnames = []\n",
    "for i in range(((len(data.columns))//6)):\n",
    "    colnames = colnames + ['st{}'.format(i+1),'pitch{}'.format(i+1),'dur{}'.format(i+1),'keysig{}'.format(i+1)\n",
    "                           ,'timesig{}'.format(i+1),'fermata{}'.format(i+1)]\n",
    "#len(colnames)\n",
    "data.columns = colnames"
   ]
  },
  {
   "cell_type": "code",
   "execution_count": 290,
   "metadata": {},
   "outputs": [],
   "source": [
    "data['st1'];"
   ]
  },
  {
   "cell_type": "code",
   "execution_count": 291,
   "metadata": {},
   "outputs": [],
   "source": [
    "for i in range((len(data.columns)//6)):\n",
    "               data['note{}'.format(i+1)] = list(zip(data['pitch{}'.format(i+1)], data['dur{}'.format(i+1)]))"
   ]
  },
  {
   "cell_type": "code",
   "execution_count": 295,
   "metadata": {
    "collapsed": true
   },
   "outputs": [],
   "source": [
    "filter_col = [col for col in data if col.startswith('note')]\n",
    "df = data[filter_col]"
   ]
  },
  {
   "cell_type": "code",
   "execution_count": 294,
   "metadata": {},
   "outputs": [
    {
     "data": {
      "text/plain": [
       "8600"
      ]
     },
     "execution_count": 294,
     "metadata": {},
     "output_type": "execute_result"
    }
   ],
   "source": [
    "df.size"
   ]
  }
 ],
 "metadata": {
  "kernelspec": {
   "display_name": "Python 3",
   "language": "python",
   "name": "python3"
  },
  "language_info": {
   "codemirror_mode": {
    "name": "ipython",
    "version": 3
   },
   "file_extension": ".py",
   "mimetype": "text/x-python",
   "name": "python",
   "nbconvert_exporter": "python",
   "pygments_lexer": "ipython3",
   "version": "3.6.2"
  }
 },
 "nbformat": 4,
 "nbformat_minor": 2
}
