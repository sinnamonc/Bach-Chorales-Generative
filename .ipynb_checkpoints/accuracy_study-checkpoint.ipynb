{
 "cells": [
  {
   "cell_type": "markdown",
   "metadata": {},
   "source": [
    "# Accuracy Study: "
   ]
  },
  {
   "cell_type": "markdown",
   "metadata": {},
   "source": [
    "This is a study of how accurate the model is. I'm going to play with dropout, and the number of lstm nodes too see what sort of impact that has.\n",
    "Afterward, I'll play with different values of maxlen, and look at differences in accuracy with and without the key signature information.\n",
    "\n",
    "1. Make a training set and a test set.\n",
    "2. Construct and train the net"
   ]
  },
  {
   "cell_type": "markdown",
   "metadata": {},
   "source": [
    "### Make a training set and a test set"
   ]
  },
  {
   "cell_type": "code",
   "execution_count": 39,
   "metadata": {},
   "outputs": [
    {
     "name": "stdout",
     "output_type": "stream",
     "text": [
      "data length = 8600\n",
      "corpus length: 4693\n",
      "total notes: 102\n",
      "Complete.\n"
     ]
    }
   ],
   "source": [
    "from data_preprocessing import preprocess_notes_as_array\n",
    "from data_preprocessing import array_is_nan\n",
    "import numpy as np\n",
    "import pandas as pd\n",
    "import matplotlib.pyplot as plt\n",
    "\n",
    "# Since I don't have much data, I'm going to ignore the key signatures\n",
    "keysig = False\n",
    "# Get the preprocessed data\n",
    "df = preprocess_notes_as_array(keysig = keysig)\n",
    "# Convert the dataframe into an array\n",
    "data_array = df.values\n",
    "# Reshape the data into a single array\n",
    "data_array = data_array.reshape(1,data_array.size)[0]\n",
    "print('data length = {}'.format(len(data_array)))\n",
    "# Identify all of the (nan, nan) entries\n",
    "index = np.argwhere(array_is_nan(data_array))\n",
    "# Convert the corpus into a list and delete the (nan,nan) entries\n",
    "corpus = np.ndarray.tolist(np.delete(data_array, index))\n",
    "\n",
    "notes = sorted(list(set(corpus)))\n",
    "print('corpus length:', len(corpus))\n",
    "print('total notes:', len(notes))\n",
    "note_indices = dict((n, i) for i, n in enumerate(notes))\n",
    "indices_note = dict((i, n) for i, n in enumerate(notes))\n",
    "\n",
    "# The length of phrases to consider.\n",
    "maxlen=10\n",
    "\n",
    "print('Complete.')"
   ]
  },
  {
   "cell_type": "code",
   "execution_count": 40,
   "metadata": {},
   "outputs": [
    {
     "name": "stdout",
     "output_type": "stream",
     "text": [
      "a: [2, 3, 1]\n",
      "b: [5, 6, 4]\n"
     ]
    }
   ],
   "source": [
    "# function to cut a set in to semi-redundant sequences of maxlen notes and produce indicator vectors out of the phrases\n",
    "def cut_vec_corpus(corpus, maxlen = 10, step = 3):\n",
    "    phrases = []\n",
    "    next_notes = []\n",
    "    for i in range(0, len(corpus) - maxlen, step):\n",
    "        phrases.append(corpus[i: i + maxlen])\n",
    "        next_notes.append(corpus[i + maxlen])\n",
    "    #print('nb sequences:', len(phrases))\n",
    "    x = np.zeros((len(phrases), maxlen, len(notes)), dtype=np.bool)\n",
    "    y = np.zeros((len(phrases), len(notes)), dtype=np.bool)\n",
    "    for i, phrase in enumerate(phrases):\n",
    "        for t, note in enumerate(phrase):\n",
    "            x[i, t, note_indices[note]] = 1\n",
    "        y[i, note_indices[next_notes[i]]] = 1\n",
    "    return x,y\n",
    "\n",
    "def shuffle_in_unison(a, b):\n",
    "    rng_state = np.random.get_state()\n",
    "    np.random.shuffle(a)\n",
    "    np.random.set_state(rng_state)\n",
    "    np.random.shuffle(b)\n",
    "\n",
    "a = [1,2,3]\n",
    "b = [4,5,6]\n",
    "shuffle_in_unison(a,b)\n",
    "print('a:',a)\n",
    "print('b:',b)\n"
   ]
  },
  {
   "cell_type": "code",
   "execution_count": 49,
   "metadata": {},
   "outputs": [
    {
     "name": "stdout",
     "output_type": "stream",
     "text": [
      "1561\n",
      "train_set size = 1461\n",
      "test_set size = 100\n",
      "Complete.\n"
     ]
    }
   ],
   "source": [
    "x,y = cut_vec_corpus(corpus)\n",
    "shuffle_in_unison(x,y)\n",
    "print(len(x))\n",
    "\n",
    "k = 100\n",
    "train_set_x = x[k:]\n",
    "train_set_y = y[k:]\n",
    "print('train_set size = {}'.format(len(train_set_x)))\n",
    "test_set_x = x[:k]\n",
    "test_set_y = y[:k]\n",
    "print('test_set size = {}'.format(len(test_set_x)))\n",
    "\n",
    "print('Complete.')"
   ]
  },
  {
   "cell_type": "markdown",
   "metadata": {},
   "source": [
    "## Try some models"
   ]
  },
  {
   "cell_type": "code",
   "execution_count": 50,
   "metadata": {},
   "outputs": [
    {
     "name": "stdout",
     "output_type": "stream",
     "text": [
      "Build model...\n",
      "Complete.\n"
     ]
    }
   ],
   "source": [
    "from keras.models import Sequential\n",
    "from keras.layers import Dense, Activation\n",
    "from keras.layers import LSTM\n",
    "from keras.optimizers import RMSprop\n",
    "\n",
    "# build the model: a single LSTM with 128 nodes\n",
    "print('Build model...')\n",
    "model = Sequential()\n",
    "model.add(LSTM(128, input_shape=(maxlen, len(notes))))\n",
    "model.add(Dense(len(notes)))\n",
    "model.add(Activation('softmax'))\n",
    "\n",
    "optimizer = RMSprop(lr=0.01)\n",
    "model.compile(loss='categorical_crossentropy', optimizer=optimizer)\n",
    "print('Complete.')"
   ]
  },
  {
   "cell_type": "code",
   "execution_count": 51,
   "metadata": {
    "collapsed": true
   },
   "outputs": [],
   "source": [
    "num_epochs_trained = 0\n",
    "train_loss = []\n",
    "test_loss = []"
   ]
  },
  {
   "cell_type": "code",
   "execution_count": 52,
   "metadata": {},
   "outputs": [
    {
     "data": {
      "text/plain": [
       "['loss']"
      ]
     },
     "execution_count": 52,
     "metadata": {},
     "output_type": "execute_result"
    }
   ],
   "source": [
    "model.metrics_names"
   ]
  },
  {
   "cell_type": "code",
   "execution_count": 54,
   "metadata": {},
   "outputs": [
    {
     "name": "stdout",
     "output_type": "stream",
     "text": [
      "Epoch 1/1\n",
      "1461/1461 [==============================] - 2s - loss: 2.8844     \n",
      "test_loss = 3.306931495666504\n",
      "Epoch 1/1\n",
      "1461/1461 [==============================] - 1s - loss: 2.6641     \n",
      "test_loss = 3.2284698486328125\n",
      "Epoch 1/1\n",
      "1461/1461 [==============================] - 1s - loss: 2.4970     \n",
      "test_loss = 3.315009117126465\n",
      "Epoch 1/1\n",
      "1461/1461 [==============================] - 1s - loss: 2.3298     \n",
      "test_loss = 3.5295379161834717\n",
      "Epoch 1/1\n",
      "1461/1461 [==============================] - 1s - loss: 2.2061     \n",
      "test_loss = 3.7458584308624268\n",
      "Total number of epochs trained = 10\n"
     ]
    },
    {
     "data": {
      "image/png": "[encoded data removed]",
      "text/plain": [
       "<matplotlib.figure.Figure at 0x1bb04011cf8>"
      ]
     },
     "metadata": {},
     "output_type": "display_data"
    }
   ],
   "source": [
    "# train the model several epochs, and test on the test set. Plot the loss for train and test sets\n",
    "for _ in np.arange(5): \n",
    "    history = model.fit(train_set_x, train_set_y, batch_size=128, epochs=1)\n",
    "    train_loss.append(history.history['loss'])\n",
    "    test_loss.append(model.test_on_batch(test_set_x, test_set_y, sample_weight=None))\n",
    "    print('test_loss = {}'.format(test_loss[-1]))\n",
    "    num_epochs_trained = num_epochs_trained + 1\n",
    "print('Total number of epochs trained = {}'.format(num_epochs_trained))\n",
    "\n",
    "\n",
    "plt.plot(train_loss)\n",
    "plt.plot(test_loss)\n",
    "plt.title('model loss')\n",
    "plt.ylabel('loss')\n",
    "plt.xlabel('epoch')\n",
    "plt.legend(['train', 'validation'], loc='upper left')\n",
    "plt.show()"
   ]
  },
  {
   "cell_type": "markdown",
   "metadata": {},
   "source": [
    "Somehow once I got the following result:\n",
    "Using lstm with 128 nodes, after 100 epochs, we have a loss of 0.00177 on the test set and 0.0023 on the train set. Overfitting doens't seem to be an issue. I'm wondering if the nature of the data is important: semi reduncant phrases...not sure.\n",
    "\n",
    "Now I seem to overfit like crazy! Is it possible that I picked a lucky test set? Maybe mixing up test and training sets would be good?\n",
    "\n",
    "Next I'll try lstm with 32 nodes."
   ]
  },
  {
   "cell_type": "code",
   "execution_count": 55,
   "metadata": {},
   "outputs": [
    {
     "name": "stdout",
     "output_type": "stream",
     "text": [
      "Build model...\n",
      "Complete.\n"
     ]
    }
   ],
   "source": [
    "from keras.models import Sequential\n",
    "from keras.layers import Dense, Activation\n",
    "from keras.layers import LSTM\n",
    "from keras.optimizers import RMSprop\n",
    "\n",
    "# build the model: a single LSTM with only 32 nodes\n",
    "print('Build model...')\n",
    "model = Sequential()\n",
    "model.add(LSTM(32, input_shape=(maxlen, len(notes))))\n",
    "model.add(Dense(len(notes)))\n",
    "model.add(Activation('softmax'))\n",
    "\n",
    "optimizer = RMSprop(lr=0.01)\n",
    "model.compile(loss='categorical_crossentropy', optimizer=optimizer)\n",
    "print('Complete.')\n",
    "\n"
   ]
  },
  {
   "cell_type": "code",
   "execution_count": 56,
   "metadata": {
    "collapsed": true
   },
   "outputs": [],
   "source": [
    "num_epochs_trained = 0\n",
    "train_loss = []\n",
    "test_loss = []"
   ]
  },
  {
   "cell_type": "code",
   "execution_count": 66,
   "metadata": {},
   "outputs": [
    {
     "name": "stdout",
     "output_type": "stream",
     "text": [
      "Epoch 1/1\n",
      "1461/1461 [==============================] - 0s - loss: 2.6641     \n",
      "test_loss = 3.3526647090911865\n",
      "Total number of epochs trained = 10\n"
     ]
    },
    {
     "data": {
      "image/png": "[encoded data removed]",
      "text/plain": [
       "<matplotlib.figure.Figure at 0x1bb0523d438>"
      ]
     },
     "metadata": {},
     "output_type": "display_data"
    }
   ],
   "source": [
    "# train the model several epochs, and test on the test set. Plot the loss for train and test sets\n",
    "for _ in np.arange(1): \n",
    "    history = model.fit(train_set_x, train_set_y, batch_size=128, epochs=1)\n",
    "    train_loss.append(history.history['loss'])\n",
    "    test_loss.append(model.test_on_batch(test_set_x, test_set_y, sample_weight=None))\n",
    "    print('test_loss = {}'.format(test_loss[-1]))\n",
    "    num_epochs_trained = num_epochs_trained + 1\n",
    "print('Total number of epochs trained = {}'.format(num_epochs_trained))\n",
    "\n",
    "\n",
    "plt.plot(train_loss)\n",
    "plt.plot(test_loss)\n",
    "plt.title('model loss')\n",
    "plt.ylabel('loss')\n",
    "plt.xlabel('epoch')\n",
    "plt.legend(['train', 'validation'], loc='upper left')\n",
    "plt.show()"
   ]
  },
  {
   "cell_type": "markdown",
   "metadata": {},
   "source": [
    "That magic result comment: After 100 epochs, the errors are ten times higher than with 128 nodes. Next I'll try 128 nodes with dropout before the dense layer. Not that overfitting really seems to be an issue...but I'm curious about when the impact will be."
   ]
  },
  {
   "cell_type": "code",
   "execution_count": 67,
   "metadata": {},
   "outputs": [
    {
     "name": "stdout",
     "output_type": "stream",
     "text": [
      "Build model...\n",
      "Complete.\n"
     ]
    }
   ],
   "source": [
    "from keras.models import Sequential\n",
    "from keras.layers import Dense, Activation\n",
    "from keras.layers import LSTM\n",
    "from keras.optimizers import RMSprop\n",
    "import keras.layers\n",
    "\n",
    "# build the model: a single LSTM with 128 nodes and dropout\n",
    "print('Build model...')\n",
    "model = Sequential()\n",
    "model.add(LSTM(128, input_shape=(maxlen, len(notes))))\n",
    "keras.layers.Dropout(0.5)\n",
    "model.add(Dense(len(notes)))\n",
    "model.add(Activation('softmax'))\n",
    "\n",
    "optimizer = RMSprop(lr=0.01)\n",
    "model.compile(loss='categorical_crossentropy', optimizer=optimizer)\n",
    "print('Complete.')"
   ]
  },
  {
   "cell_type": "code",
   "execution_count": 68,
   "metadata": {
    "collapsed": true
   },
   "outputs": [],
   "source": [
    "num_epochs_trained = 0\n",
    "train_loss = []\n",
    "test_loss = []"
   ]
  },
  {
   "cell_type": "code",
   "execution_count": 70,
   "metadata": {},
   "outputs": [
    {
     "name": "stdout",
     "output_type": "stream",
     "text": [
      "Epoch 1/1\n",
      "1461/1461 [==============================] - 2s - loss: 0.0258     \n",
      "test_loss = 6.013129711151123\n",
      "Epoch 1/1\n",
      "1461/1461 [==============================] - 1s - loss: 0.1528     \n",
      "test_loss = 5.969188690185547\n",
      "Epoch 1/1\n",
      "1461/1461 [==============================] - 1s - loss: 0.0313     \n",
      "test_loss = 6.221703052520752\n",
      "Epoch 1/1\n",
      "1461/1461 [==============================] - 1s - loss: 0.0499     \n",
      "test_loss = 6.05919075012207\n",
      "Epoch 1/1\n",
      "1461/1461 [==============================] - 1s - loss: 0.0177     \n",
      "test_loss = 6.378222465515137\n",
      "Epoch 1/1\n",
      "1461/1461 [==============================] - 1s - loss: 0.0222     \n",
      "test_loss = 6.543333530426025\n",
      "Epoch 1/1\n",
      "1461/1461 [==============================] - 1s - loss: 0.1626     \n",
      "test_loss = 6.215706825256348\n",
      "Epoch 1/1\n",
      "1461/1461 [==============================] - 1s - loss: 0.0197     \n",
      "test_loss = 6.118327617645264\n",
      "Epoch 1/1\n",
      "1461/1461 [==============================] - 1s - loss: 0.0171     \n",
      "test_loss = 6.252157688140869\n",
      "Epoch 1/1\n",
      "1461/1461 [==============================] - 1s - loss: 0.0163     \n",
      "test_loss = 6.28697395324707\n",
      "Total number of epochs trained = 42\n"
     ]
    },
    {
     "data": {
      "image/png": "[encoded data removed]",
      "text/plain": [
       "<matplotlib.figure.Figure at 0x1bb08beeeb8>"
      ]
     },
     "metadata": {},
     "output_type": "display_data"
    }
   ],
   "source": [
    "# train the model several epochs, and test on the test set. Plot the loss for train and test sets\n",
    "for _ in np.arange(10): \n",
    "    history = model.fit(train_set_x, train_set_y, batch_size=128, epochs=1)\n",
    "    train_loss.append(history.history['loss'])\n",
    "    test_loss.append(model.test_on_batch(test_set_x, test_set_y, sample_weight=None))\n",
    "    print('test_loss = {}'.format(test_loss[-1]))\n",
    "    num_epochs_trained = num_epochs_trained + 1\n",
    "print('Total number of epochs trained = {}'.format(num_epochs_trained))\n",
    "\n",
    "\n",
    "plt.plot(train_loss)\n",
    "plt.plot(test_loss)\n",
    "plt.title('model loss')\n",
    "plt.ylabel('loss')\n",
    "plt.xlabel('epoch')\n",
    "plt.legend(['train', 'validation'], loc='upper left')\n",
    "plt.show()"
   ]
  },
  {
   "cell_type": "markdown",
   "metadata": {},
   "source": [
    "That magic result: A bit better results here. The loss is slightly lower, and the jumps in the loss are smaller, which is nice. So I like the dropout, what if I take even more lstm nodes? Like 256 of them..."
   ]
  },
  {
   "cell_type": "code",
   "execution_count": 71,
   "metadata": {},
   "outputs": [
    {
     "name": "stdout",
     "output_type": "stream",
     "text": [
      "Build model...\n",
      "Complete.\n"
     ]
    }
   ],
   "source": [
    "from keras.models import Sequential\n",
    "from keras.layers import Dense, Activation\n",
    "from keras.layers import LSTM\n",
    "from keras.optimizers import RMSprop\n",
    "import keras.layers\n",
    "\n",
    "# build the model: a single LSTM with 256 nodes\n",
    "print('Build model...')\n",
    "model = Sequential()\n",
    "model.add(LSTM(256, input_shape=(maxlen, len(notes))))\n",
    "keras.layers.Dropout(0.5)\n",
    "model.add(Dense(len(notes)))\n",
    "model.add(Activation('softmax'))\n",
    "\n",
    "optimizer = RMSprop(lr=0.01)\n",
    "model.compile(loss='categorical_crossentropy', optimizer=optimizer)\n",
    "print('Complete.')"
   ]
  },
  {
   "cell_type": "code",
   "execution_count": 72,
   "metadata": {
    "collapsed": true
   },
   "outputs": [],
   "source": [
    "num_epochs_trained = 0\n",
    "train_loss = []\n",
    "test_loss = []"
   ]
  },
  {
   "cell_type": "code",
   "execution_count": 73,
   "metadata": {},
   "outputs": [
    {
     "name": "stdout",
     "output_type": "stream",
     "text": [
      "Epoch 1/1\n",
      "1461/1461 [==============================] - 9s - loss: 4.0532     \n",
      "test_loss = 3.6565990447998047\n",
      "Epoch 1/1\n",
      "1461/1461 [==============================] - 3s - loss: 3.4141     \n",
      "test_loss = 3.6463053226470947\n",
      "Epoch 1/1\n",
      "1461/1461 [==============================] - 3s - loss: 3.3792     \n",
      "test_loss = 3.5194547176361084\n",
      "Epoch 1/1\n",
      "1461/1461 [==============================] - 3s - loss: 3.2462     \n",
      "test_loss = 3.474670648574829\n",
      "Epoch 1/1\n",
      "1461/1461 [==============================] - 2s - loss: 3.1148     \n",
      "test_loss = 3.379361152648926\n",
      "Epoch 1/1\n",
      "1461/1461 [==============================] - 2s - loss: 2.9164     \n",
      "test_loss = 3.356372356414795\n",
      "Epoch 1/1\n",
      "1461/1461 [==============================] - 2s - loss: 2.7316     \n",
      "test_loss = 3.252079963684082\n",
      "Epoch 1/1\n",
      "1461/1461 [==============================] - 2s - loss: 2.5522     \n",
      "test_loss = 3.2166945934295654\n",
      "Epoch 1/1\n",
      "1461/1461 [==============================] - 2s - loss: 2.4222     \n",
      "test_loss = 3.3065967559814453\n",
      "Epoch 1/1\n",
      "1461/1461 [==============================] - 2s - loss: 2.2933     \n",
      "test_loss = 3.277935743331909\n",
      "Total number of epochs trained = 10\n"
     ]
    },
    {
     "data": {
      "image/png": "[encoded data removed]",
      "text/plain": [
       "<matplotlib.figure.Figure at 0x1bb0bad7a58>"
      ]
     },
     "metadata": {},
     "output_type": "display_data"
    }
   ],
   "source": [
    "# train the model several epochs, and test on the test set. Plot the loss for train and test sets\n",
    "for _ in np.arange(10): \n",
    "    history = model.fit(train_set_x, train_set_y, batch_size=128, epochs=1)\n",
    "    train_loss.append(history.history['loss'])\n",
    "    test_loss.append(model.test_on_batch(test_set_x, test_set_y, sample_weight=None))\n",
    "    print('test_loss = {}'.format(test_loss[-1]))\n",
    "    num_epochs_trained = num_epochs_trained + 1\n",
    "print('Total number of epochs trained = {}'.format(num_epochs_trained))\n",
    "\n",
    "\n",
    "plt.plot(train_loss)\n",
    "plt.plot(test_loss)\n",
    "plt.title('model loss')\n",
    "plt.ylabel('loss')\n",
    "plt.xlabel('epoch')\n",
    "plt.legend(['train', 'validation'], loc='upper left')\n",
    "plt.show()"
   ]
  },
  {
   "cell_type": "markdown",
   "metadata": {},
   "source": [
    "Magic result: This gives similar results to 128 with dropout."
   ]
  },
  {
   "cell_type": "markdown",
   "metadata": {},
   "source": [
    "# Playing with other parameters"
   ]
  },
  {
   "cell_type": "markdown",
   "metadata": {},
   "source": [
    "Take the best model, but include the key signature information."
   ]
  },
  {
   "cell_type": "code",
   "execution_count": 77,
   "metadata": {},
   "outputs": [
    {
     "name": "stdout",
     "output_type": "stream",
     "text": [
      "total notes: 393\n",
      "Complete.\n"
     ]
    }
   ],
   "source": [
    "# Set up the data again\n",
    "from data_preprocessing import preprocess_notes_as_array\n",
    "from data_preprocessing import array_is_nan\n",
    "import numpy as np\n",
    "import pandas as pd\n",
    "import matplotlib.pyplot as plt\n",
    "\n",
    "# Include the key signature information this time\n",
    "keysig = True\n",
    "# Get the preprocessed data\n",
    "df = preprocess_notes_as_array(keysig = keysig)\n",
    "# Convert the dataframe into an array\n",
    "data_array = df.values\n",
    "# Reshape the data into a single array\n",
    "data_array = data_array.reshape(1,data_array.size)[0]\n",
    "# Identify all of the (nan, nan) entries\n",
    "index = np.argwhere(array_is_nan(data_array))\n",
    "# Convert the corpus into a list and delete the (nan,nan) entries\n",
    "corpus = np.ndarray.tolist(np.delete(data_array, index))\n",
    "\n",
    "notes = sorted(list(set(corpus)))\n",
    "print('total notes:', len(notes))\n",
    "note_indices = dict((n, i) for i, n in enumerate(notes))\n",
    "indices_note = dict((i, n) for i, n in enumerate(notes))\n",
    "\n",
    "# The length of phrases to consider.\n",
    "maxlen=10\n",
    "\n",
    "print('Complete.')"
   ]
  },
  {
   "cell_type": "code",
   "execution_count": 78,
   "metadata": {},
   "outputs": [
    {
     "name": "stdout",
     "output_type": "stream",
     "text": [
      "train_set size = 1461\n",
      "test_set size = 100\n",
      "Complete.\n"
     ]
    }
   ],
   "source": [
    "x,y = cut_vec_corpus(corpus)\n",
    "shuffle_in_unison(x,y)\n",
    "\n",
    "k = 100\n",
    "train_set_x = x[k:]\n",
    "train_set_y = y[k:]\n",
    "print('train_set size = {}'.format(len(train_set_x)))\n",
    "test_set_x = x[:k]\n",
    "test_set_y = y[:k]\n",
    "print('test_set size = {}'.format(len(test_set_x)))\n",
    "\n",
    "print('Complete.')"
   ]
  },
  {
   "cell_type": "code",
   "execution_count": 79,
   "metadata": {},
   "outputs": [
    {
     "name": "stdout",
     "output_type": "stream",
     "text": [
      "Build model...\n",
      "Complete.\n"
     ]
    }
   ],
   "source": [
    "from keras.models import Sequential\n",
    "from keras.layers import Dense, Activation\n",
    "from keras.layers import LSTM\n",
    "from keras.optimizers import RMSprop\n",
    "import keras.layers\n",
    "\n",
    "# build the model: a single LSTM with 128 nodes and dropout\n",
    "print('Build model...')\n",
    "model = Sequential()\n",
    "model.add(LSTM(128, input_shape=(maxlen, len(notes))))\n",
    "keras.layers.Dropout(0.5)\n",
    "model.add(Dense(len(notes)))\n",
    "model.add(Activation('softmax'))\n",
    "\n",
    "optimizer = RMSprop(lr=0.01)\n",
    "model.compile(loss='categorical_crossentropy', optimizer=optimizer)\n",
    "print('Complete.')"
   ]
  },
  {
   "cell_type": "code",
   "execution_count": 80,
   "metadata": {
    "collapsed": true
   },
   "outputs": [],
   "source": [
    "num_epochs_trained = 0\n",
    "train_loss = []\n",
    "test_loss = []"
   ]
  },
  {
   "cell_type": "code",
   "execution_count": 81,
   "metadata": {},
   "outputs": [
    {
     "name": "stdout",
     "output_type": "stream",
     "text": [
      "Epoch 1/1\n",
      "1461/1461 [==============================] - 7s - loss: 5.1103     \n",
      "test_loss = 4.265522480010986\n",
      "Epoch 1/1\n",
      "1461/1461 [==============================] - 3s - loss: 3.9466     \n",
      "test_loss = 3.7901294231414795\n",
      "Epoch 1/1\n",
      "1461/1461 [==============================] - 2s - loss: 3.6469     \n",
      "test_loss = 3.609550714492798\n",
      "Epoch 1/1\n",
      "1461/1461 [==============================] - 2s - loss: 3.4120     \n",
      "test_loss = 3.611567735671997\n",
      "Epoch 1/1\n",
      "1461/1461 [==============================] - 1s - loss: 3.2226     \n",
      "test_loss = 3.827341318130493\n",
      "Epoch 1/1\n",
      "1461/1461 [==============================] - 2s - loss: 3.1054     \n",
      "test_loss = 3.471345901489258\n",
      "Epoch 1/1\n",
      "1461/1461 [==============================] - 1s - loss: 2.8869     \n",
      "test_loss = 3.5267505645751953\n",
      "Epoch 1/1\n",
      "1461/1461 [==============================] - 1s - loss: 2.6955     \n",
      "test_loss = 3.4715182781219482\n",
      "Epoch 1/1\n",
      "1461/1461 [==============================] - 1s - loss: 2.4750     \n",
      "test_loss = 3.5251500606536865\n",
      "Epoch 1/1\n",
      "1461/1461 [==============================] - 1s - loss: 2.2844     \n",
      "test_loss = 3.635066509246826\n",
      "Total number of epochs trained = 10\n"
     ]
    },
    {
     "data": {
      "image/png": "[encoded data removed]",
      "text/plain": [
       "<matplotlib.figure.Figure at 0x1bb0f97c6a0>"
      ]
     },
     "metadata": {},
     "output_type": "display_data"
    }
   ],
   "source": [
    "# train the model several epochs, and test on the test set. Plot the loss for train and test sets\n",
    "for _ in np.arange(10): \n",
    "    history = model.fit(train_set_x, train_set_y, batch_size=128, epochs=1)\n",
    "    train_loss.append(history.history['loss'])\n",
    "    test_loss.append(model.test_on_batch(test_set_x, test_set_y, sample_weight=None))\n",
    "    print('test_loss = {}'.format(test_loss[-1]))\n",
    "    num_epochs_trained = num_epochs_trained + 1\n",
    "print('Total number of epochs trained = {}'.format(num_epochs_trained))\n",
    "\n",
    "\n",
    "plt.plot(train_loss)\n",
    "plt.plot(test_loss)\n",
    "plt.title('model loss')\n",
    "plt.ylabel('loss')\n",
    "plt.xlabel('epoch')\n",
    "plt.legend(['train', 'validation'], loc='upper left')\n",
    "plt.show()"
   ]
  },
  {
   "cell_type": "markdown",
   "metadata": {},
   "source": [
    "Terrible overfitting with key signature information included!!!"
   ]
  },
  {
   "cell_type": "markdown",
   "metadata": {},
   "source": [
    "## Different values of maxlen"
   ]
  },
  {
   "cell_type": "markdown",
   "metadata": {},
   "source": [
    "Try maxlen = 40, and keysig = False\n",
    "Try maxlen = 5, keysig = False"
   ]
  },
  {
   "cell_type": "code",
   "execution_count": 82,
   "metadata": {},
   "outputs": [
    {
     "name": "stdout",
     "output_type": "stream",
     "text": [
      "total notes: 102\n",
      "Complete.\n"
     ]
    }
   ],
   "source": [
    "from data_preprocessing import preprocess_notes_as_array\n",
    "from data_preprocessing import array_is_nan\n",
    "import numpy as np\n",
    "import pandas as pd\n",
    "import matplotlib.pyplot as plt\n",
    "\n",
    "# Since I don't have much data, I'm going to ignore the key signatures\n",
    "keysig = False\n",
    "# Get the preprocessed data\n",
    "df = preprocess_notes_as_array(keysig = keysig)\n",
    "# Convert the dataframe into an array\n",
    "data_array = df.values\n",
    "# Reshape the data into a single array\n",
    "data_array = data_array.reshape(1,data_array.size)[0]\n",
    "# Identify all of the (nan, nan) entries\n",
    "index = np.argwhere(array_is_nan(data_array))\n",
    "# Convert the corpus into a list and delete the (nan,nan) entries\n",
    "corpus = np.ndarray.tolist(np.delete(data_array, index))\n",
    "\n",
    "notes = sorted(list(set(corpus)))\n",
    "print('total notes:', len(notes))\n",
    "note_indices = dict((n, i) for i, n in enumerate(notes))\n",
    "indices_note = dict((i, n) for i, n in enumerate(notes))\n",
    "\n",
    "# The length of phrases to consider.\n",
    "maxlen=10\n",
    "\n",
    "print('Complete.')"
   ]
  },
  {
   "cell_type": "code",
   "execution_count": 89,
   "metadata": {},
   "outputs": [
    {
     "name": "stdout",
     "output_type": "stream",
     "text": [
      "1561\n",
      "train_set size = 1551\n",
      "test_set size = 10\n",
      "Complete.\n"
     ]
    }
   ],
   "source": [
    "\n",
    "x,y = cut_vec_corpus(corpus, maxlen = maxlen)\n",
    "shuffle_in_unison(x,y)\n",
    "print(len(x))\n",
    "\n",
    "k = 10\n",
    "train_set_x = x[k:]\n",
    "train_set_y = y[k:]\n",
    "print('train_set size = {}'.format(len(train_set_x)))\n",
    "test_set_x = x[:k]\n",
    "test_set_y = y[:k]\n",
    "print('test_set size = {}'.format(len(test_set_x)))\n",
    "\n",
    "print('Complete.')"
   ]
  },
  {
   "cell_type": "code",
   "execution_count": 99,
   "metadata": {},
   "outputs": [
    {
     "name": "stdout",
     "output_type": "stream",
     "text": [
      "Build model...\n",
      "Complete.\n"
     ]
    }
   ],
   "source": [
    "from keras.models import Sequential\n",
    "from keras.layers import Dense, Activation\n",
    "from keras.layers import LSTM\n",
    "from keras.optimizers import RMSprop\n",
    "import keras.layers\n",
    "\n",
    "# build the model: a single LSTM with 128 nodes and dropout\n",
    "print('Build model...')\n",
    "model = Sequential()\n",
    "model.add(LSTM(10, input_shape=(maxlen, len(notes))))\n",
    "keras.layers.Dropout(0.5)\n",
    "model.add(Dense(len(notes)))\n",
    "model.add(Activation('softmax'))\n",
    "\n",
    "optimizer = RMSprop(lr=0.01)\n",
    "model.compile(loss='categorical_crossentropy', optimizer=optimizer)\n",
    "print('Complete.')"
   ]
  },
  {
   "cell_type": "code",
   "execution_count": 100,
   "metadata": {},
   "outputs": [
    {
     "name": "stdout",
     "output_type": "stream",
     "text": [
      "Initialized.\n"
     ]
    }
   ],
   "source": [
    "\n",
    "num_epochs_trained = 0\n",
    "train_loss = []\n",
    "test_loss = []\n",
    "print('Initialized.')"
   ]
  },
  {
   "cell_type": "code",
   "execution_count": 104,
   "metadata": {},
   "outputs": [
    {
     "name": "stdout",
     "output_type": "stream",
     "text": [
      "Epoch 1/1\n",
      "1551/1551 [==============================] - 2s - loss: 2.5551     \n",
      "test_loss = 2.5318000316619873\n",
      "Epoch 1/1\n",
      "1551/1551 [==============================] - 1s - loss: 2.5069     \n",
      "test_loss = 2.658658027648926\n",
      "Epoch 1/1\n",
      "1551/1551 [==============================] - 1s - loss: 2.4610     \n",
      "test_loss = 2.60502552986145\n",
      "Epoch 1/1\n",
      "1551/1551 [==============================] - 1s - loss: 2.4091     \n",
      "test_loss = 2.8082478046417236\n",
      "Epoch 1/1\n",
      "1551/1551 [==============================] - 1s - loss: 2.3755     \n",
      "test_loss = 2.8135790824890137\n",
      "Epoch 1/1\n",
      "1551/1551 [==============================] - 1s - loss: 2.3335     \n",
      "test_loss = 2.8239517211914062\n",
      "Epoch 1/1\n",
      "1551/1551 [==============================] - 1s - loss: 2.3013     \n",
      "test_loss = 2.7909340858459473\n",
      "Epoch 1/1\n",
      "1551/1551 [==============================] - 1s - loss: 2.2614     - ETA:\n",
      "test_loss = 2.787174940109253\n",
      "Epoch 1/1\n",
      "1551/1551 [==============================] - 1s - loss: 2.2350     - E\n",
      "test_loss = 2.9282491207122803\n",
      "Epoch 1/1\n",
      "1551/1551 [==============================] - 1s - loss: 2.2054     \n",
      "test_loss = 2.6614990234375\n",
      "Total number of epochs trained = 20\n"
     ]
    },
    {
     "data": {
      "image/png": "[encoded data removed]",
      "text/plain": [
       "<matplotlib.figure.Figure at 0x1bb1b1ed518>"
      ]
     },
     "metadata": {},
     "output_type": "display_data"
    }
   ],
   "source": [
    "# train the model several epochs, and test on the test set. Plot the loss for train and test sets\n",
    "for _ in np.arange(10): \n",
    "    history = model.fit(train_set_x, train_set_y, batch_size=20, epochs=1)\n",
    "    train_loss.append(history.history['loss'])\n",
    "    test_loss.append(model.test_on_batch(test_set_x, test_set_y, sample_weight=None))\n",
    "    print('test_loss = {}'.format(test_loss[-1]))\n",
    "    num_epochs_trained = num_epochs_trained + 1\n",
    "print('Total number of epochs trained = {}'.format(num_epochs_trained))\n",
    "\n",
    "\n",
    "plt.plot(train_loss)\n",
    "plt.plot(test_loss)\n",
    "plt.title('model loss')\n",
    "plt.ylabel('loss')\n",
    "plt.xlabel('epoch')\n",
    "plt.legend(['train', 'validation'], loc='upper left')\n",
    "plt.show()"
   ]
  },
  {
   "cell_type": "markdown",
   "metadata": {},
   "source": []
  },
  {
   "cell_type": "code",
   "execution_count": null,
   "metadata": {},
   "outputs": [],
   "source": []
  }
 ],
 "metadata": {
  "kernelspec": {
   "display_name": "Python 3",
   "language": "python",
   "name": "python3"
  },
  "language_info": {
   "codemirror_mode": {
    "name": "ipython",
    "version": 3
   },
   "file_extension": ".py",
   "mimetype": "text/x-python",
   "name": "python",
   "nbconvert_exporter": "python",
   "pygments_lexer": "ipython3",
   "version": "3.5.4"
  }
 },
 "nbformat": 4,
 "nbformat_minor": 2
}
