{
 "cells": [
  {
   "cell_type": "markdown",
   "metadata": {},
   "source": [
    "# Model with transposed data augmentation testing"
   ]
  },
  {
   "cell_type": "code",
   "execution_count": null,
   "metadata": {
    "collapsed": true
   },
   "outputs": [],
   "source": [
    "from keras.models import Sequential\n",
    "from keras.layers import Dense, Activation\n",
    "from keras.layers import LSTM, Dropout\n",
    "from keras.optimizers import RMSprop\n",
    "from keras.utils.data_utils import get_file\n",
    "import pandas as pd\n",
    "import numpy as np\n",
    "import random\n",
    "\n",
    "from utilities import sample\n",
    "from data_preprocessing import get_chorales_as_list_with_transpositions\n",
    "from data_preprocessing import array_is_nan\n",
    "from chorale_player import play_chorale\n",
    "\n",
    "# Get the preprocessed data\n",
    "data_array = get_chorales_as_list_with_transpositions()\n",
    "# Reshape the data into a single array\n",
    "data_array = data_array.reshape(1,data_array.size)[0]\n",
    "# Identify all of the (nan, nan) entries\n",
    "index = np.argwhere(array_is_nan(data_array))\n",
    "# Convert the corpus into a list and delete the (nan,nan) entries\n",
    "corpus = np.ndarray.tolist(np.delete(data_array, index))\n",
    "\n",
    "notes = sorted(list(set(corpus)))\n",
    "print('total notes:', len(notes))\n",
    "note_indices = dict((n, i) for i, n in enumerate(notes))\n",
    "indices_note = dict((i, n) for i, n in enumerate(notes))\n",
    "\n",
    "# cut the corpus in semi-redundant sequences of maxlen notes\n",
    "maxlen = 10\n",
    "step = 3\n"
   ]
  },
  {
   "cell_type": "code",
   "execution_count": null,
   "metadata": {
    "collapsed": true
   },
   "outputs": [],
   "source": [
    "\n",
    "phrases = []\n",
    "next_notes = []\n",
    "for i in range(0, len(corpus) - maxlen, step):\n",
    "    phrases.append(corpus[i: i + maxlen])\n",
    "    next_notes.append(corpus[i + maxlen])\n",
    "print('nb sequences:', len(phrases))\n",
    "\n",
    "print('Vectorization...')\n",
    "x = np.zeros((len(phrases), maxlen, len(notes)), dtype=np.bool)\n",
    "y = np.zeros((len(phrases), len(notes)), dtype=np.bool)\n",
    "for i, phrase in enumerate(phrases):\n",
    "    for t, note in enumerate(phrase):\n",
    "        x[i, t, note_indices[note]] = 1\n",
    "    y[i, note_indices[next_notes[i]]] = 1\n"
   ]
  },
  {
   "cell_type": "code",
   "execution_count": null,
   "metadata": {
    "collapsed": true
   },
   "outputs": [],
   "source": [
    "\n",
    "# build the model: a single LSTM\n",
    "print('Build model...')\n",
    "model = Sequential()\n",
    "model.add(LSTM(128, input_shape=(maxlen, len(notes))))\n",
    "keras.layers.Dropout(0.5)\n",
    "model.add(Dense(len(notes)))\n",
    "model.add(Activation('softmax'))\n",
    "\n",
    "optimizer = RMSprop(lr=0.01)\n",
    "model.compile(loss='categorical_crossentropy', optimizer=optimizer)\n",
    "\n"
   ]
  }
 ],
 "metadata": {
  "kernelspec": {
   "display_name": "Python 3",
   "language": "python",
   "name": "python3"
  },
  "language_info": {
   "codemirror_mode": {
    "name": "ipython",
    "version": 3
   },
   "file_extension": ".py",
   "mimetype": "text/x-python",
   "name": "python",
   "nbconvert_exporter": "python",
   "pygments_lexer": "ipython3",
   "version": "3.5.4"
  }
 },
 "nbformat": 4,
 "nbformat_minor": 2
}
