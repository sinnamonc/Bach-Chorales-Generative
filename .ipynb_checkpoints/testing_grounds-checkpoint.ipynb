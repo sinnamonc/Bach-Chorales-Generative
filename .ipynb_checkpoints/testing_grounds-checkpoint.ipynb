{
 "cells": [
  {
   "cell_type": "markdown",
   "metadata": {
    "scrolled": true
   },
   "source": [
    "## Introduction:"
   ]
  },
  {
   "cell_type": "markdown",
   "metadata": {},
   "source": [
    "This is a place to load a model and feed it different initial phrases to see what the model does! \n",
    "You will need keras with tensorflow backend, pandas, numpy, random, ast, pygame, and perhaps a few other packages to run this."
   ]
  },
  {
   "cell_type": "code",
   "execution_count": 1,
   "metadata": {},
   "outputs": [
    {
     "name": "stderr",
     "output_type": "stream",
     "text": [
      "Using TensorFlow backend.\n"
     ]
    },
    {
     "name": "stdout",
     "output_type": "stream",
     "text": [
      "Imports completed.\n",
      "Note dictionaries constructed.\n",
      "Loading model...\n",
      "Complete.\n"
     ]
    }
   ],
   "source": [
    "# Create the note dictionaries, and import the model. It takes a minute to start up the tensorflow backend, import the data,\n",
    "# and load the model. Wait until 'Complete.' is written. \n",
    "\n",
    "from data_preprocessing import preprocess_notes_as_array\n",
    "from data_preprocessing import array_is_nan\n",
    "from data_preprocessing import chorale_intro\n",
    "from utilities import sample\n",
    "\n",
    "import pandas as pd\n",
    "import numpy as np\n",
    "import random\n",
    "from keras.models import load_model\n",
    "from ast import literal_eval\n",
    "\n",
    "print('Imports completed.')\n",
    "\n",
    "\n",
    "# Get the preprocessed data\n",
    "df = preprocess_notes_as_array(keysig = True)\n",
    "# Convert the dataframe into an array\n",
    "data_array = df.values\n",
    "# Reshape the data into a single array\n",
    "data_array = data_array.reshape(1,data_array.size)[0]\n",
    "# Identify all of the (nan, nan) entries\n",
    "index = np.argwhere(array_is_nan(data_array))\n",
    "# Convert the corpus into a list and delete the (nan,nan) entries\n",
    "corpus = np.ndarray.tolist(np.delete(data_array, index))\n",
    "\n",
    "notes = sorted(list(set(corpus)))\n",
    "\n",
    "note_indices = dict((n, i) for i, n in enumerate(notes))\n",
    "indices_note = dict((i, n) for i, n in enumerate(notes))\n",
    "\n",
    "print('Note dictionaries constructed.')\n",
    "\n",
    "print('Loading model...')\n",
    "filename = 'models/chorales_generation_model_maxlen-10.h5'\n",
    "# Load the model\n",
    "model = load_model(filename);\n",
    "# The maxlen variable that was used to train the model\n",
    "maxlen = 10\n",
    "print('Complete.')"
   ]
  },
  {
   "cell_type": "code",
   "execution_count": 3,
   "metadata": {},
   "outputs": [
    {
     "name": "stdout",
     "output_type": "stream",
     "text": [
      "Complete.\n"
     ]
    }
   ],
   "source": [
    "# Set up the play_chorale function to generate a play a chorale from an initial phrase and diversity.\n",
    "\n",
    "def play_chorale(phrase, diversity = 1.0, chorale_length = 40):\n",
    "\n",
    "    print()\n",
    "    print('----- diversity:', diversity)\n",
    "\n",
    "    generated = []\n",
    "    generated = generated + phrase\n",
    "    print('----- Generating with seed: \"{}\"'.format(phrase))\n",
    "        \n",
    "    print('Generated: {}'.format(generated))\n",
    "        \n",
    "    for i in range(chorale_length):\n",
    "        z = np.zeros((1, maxlen, len(notes)))\n",
    "        for t, note in enumerate(phrase):\n",
    "            z[0, t, note_indices[note]] = 1.\n",
    "\n",
    "        preds = model.predict(z, verbose=0)[0]\n",
    "        next_index = sample(preds, diversity)\n",
    "        next_note = indices_note[next_index]\n",
    "            \n",
    "        generated = generated + [next_note]\n",
    "    \n",
    "        phrase.append(next_note)\n",
    "        phrase = phrase[1:]\n",
    "            \n",
    "    file = open('outputs/texts/chorale_playground_diversity-{}.txt'.format(diversity), 'w')\n",
    "    try:\n",
    "        for note in generated:\n",
    "            file.write('{}\\n'.format(note))\n",
    "    finally:\n",
    "        file.close()\n",
    "\n",
    "    from chorale_player import write_chorale\n",
    "\n",
    "    file = open('outputs/texts/chorale_playground_diversity-{}.txt'.format(diversity), 'r')\n",
    "    z = file.readlines()\n",
    "\n",
    "    chorale = [x.strip('\\n') for x in z] \n",
    "     \n",
    "    chorale = [literal_eval(x) for x in chorale]\n",
    "    \n",
    "    track_name = write_chorale(chorale, track_title = \"test_name\", extra_last_note = True)\n",
    "    \n",
    "    from chorale_player import play_chorale_midi\n",
    "    \n",
    "    play_chorale_midi(track_name)\n",
    "\n",
    "print('Complete.')"
   ]
  },
  {
   "cell_type": "code",
   "execution_count": 5,
   "metadata": {},
   "outputs": [
    {
     "name": "stdout",
     "output_type": "stream",
     "text": [
      "Phrase = [(71, 4, 4), (71, 4, 4), (71, 4, 4), (71, 4, 4), (74, 4, 4), (73, 4, 4), (71, 4, 4), (69, 4, 4), (71, 4, 4), (68, 4, 4)]\n",
      "\n",
      "----- diversity: 1.3\n",
      "----- Generating with seed: \"[(71, 4, 4), (71, 4, 4), (71, 4, 4), (71, 4, 4), (74, 4, 4), (73, 4, 4), (71, 4, 4), (69, 4, 4), (71, 4, 4), (68, 4, 4)]\"\n",
      "Generated: [(71, 4, 4), (71, 4, 4), (71, 4, 4), (71, 4, 4), (74, 4, 4), (73, 4, 4), (71, 4, 4), (69, 4, 4), (71, 4, 4), (68, 4, 4)]\n"
     ]
    }
   ],
   "source": [
    "# Create a variable a phrase of notes of the form [(midi pitch, duration in 16th notes), (midi pitch, duration in 16th notes), ... ]\n",
    "# consisting of 10 notes\n",
    "# For example,\n",
    "# phrase = [(64, 4, 1), (67, 4, 1), (67, 4, 1), (69, 4, 1), (69, 4, 1), \n",
    "#             (71, 4, 1), (71, 4, 1), (71, 4, 1), (74, 4, 1), (72, 4, 1)]\n",
    "# Or, use the function chorale_intro to take the first maxlen notes from chorale num_chorale.\n",
    "# For example, \n",
    "# num_chorale = 5\n",
    "# intro_phrase = chorale_intro(num_notes = maxlen, num_chorale = num_chorale, keysig = True)\n",
    "# intro_phrase = np.ndarray.tolist(intro_phrase)\n",
    "\n",
    "num_chorale = 3\n",
    "intro_phrase = chorale_intro(num_notes = maxlen, num_chorale = num_chorale, keysig = True)\n",
    "intro_phrase = np.ndarray.tolist(intro_phrase)\n",
    "print(\"Phrase = {}\".format(intro_phrase))\n",
    "\n",
    "# Call the function play_chorale(phrase, diversity) where the phrase is as above, and diversity of a positive number \n",
    "# indicating how `interesting' the generated chorale should be. A higher number will take more chances, while a lower number \n",
    "# may be fairly monotone. Try diversity = 1.0 start. You may also set the number of notes to generate with chorale_length, \n",
    "# the default is 40 is left blank.\n",
    "# For example, play_chorale(phrase, 1.0, chorale_length = 20)\n",
    "# Note that I cheat slightly by added a whole note at the end of the chorale with the same pitch as the last generated note.\n",
    "# This makes the endings much more satisfying.\n",
    "\n",
    "play_chorale(intro_phrase, 1.3)"
   ]
  },
  {
   "cell_type": "code",
   "execution_count": null,
   "metadata": {
    "collapsed": true
   },
   "outputs": [],
   "source": []
  }
 ],
 "metadata": {
  "kernelspec": {
   "display_name": "Python 3",
   "language": "python",
   "name": "python3"
  },
  "language_info": {
   "codemirror_mode": {
    "name": "ipython",
    "version": 3
   },
   "file_extension": ".py",
   "mimetype": "text/x-python",
   "name": "python",
   "nbconvert_exporter": "python",
   "pygments_lexer": "ipython3",
   "version": "3.5.4"
  }
 },
 "nbformat": 4,
 "nbformat_minor": 2
}
